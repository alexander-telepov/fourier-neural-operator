{
 "cells": [
  {
   "cell_type": "markdown",
   "metadata": {},
   "source": [
    "# Data generation"
   ]
  },
  {
   "cell_type": "code",
   "execution_count": 1,
   "metadata": {
    "colab": {
     "base_uri": "https://localhost:8080/"
    },
    "id": "-rbONQObCBfQ",
    "outputId": "a2174910-fc51-45e9-e41f-2ec6812f3a68"
   },
   "outputs": [
    {
     "name": "stdout",
     "output_type": "stream",
     "text": [
      "Requirement already satisfied: fplanck in c:\\users\\nazerke\\anaconda3\\lib\\site-packages (0.2.1)\n",
      "Requirement already satisfied: numpy in c:\\users\\nazerke\\anaconda3\\lib\\site-packages (from fplanck) (1.20.1)\n",
      "Requirement already satisfied: scipy in c:\\users\\nazerke\\anaconda3\\lib\\site-packages (from fplanck) (1.2.1)\n"
     ]
    }
   ],
   "source": [
    "!pip install fplanck"
   ]
  },
  {
   "cell_type": "markdown",
   "metadata": {},
   "source": [
    "The Fokker-Planck Equation is a partial differential equation that describes the time evolution of the probability density function of the velocity of a particle under the influence of forces. \n",
    "\n",
    "\n",
    "The Fokker–Planck equation for the probability density $ p(x,t)$ of the random variable $ X_{t}$ is\n",
    "$$\n",
    "{\\frac {\\partial }{\\partial t}}p(x,t)=-{\\frac {\\partial }{\\partial x}}\\left[J(x,t)\\right]$$\n",
    "\n",
    "where $J$ is probability current flux\n",
    "$$\n",
    "{\\frac {\\partial }{\\partial t}}p(x,t)=-{\\frac {\\partial }{\\partial x}}\\left[\\mu (x,t)p(x,t)\\right]+{\\frac{1}{2}\\frac {\\partial ^{2}}{\\partial x^{2}}}\\left[D(x,t)p(x,t)\\right]$$."
   ]
  },
  {
   "cell_type": "code",
   "execution_count": 2,
   "metadata": {
    "id": "hArCuzPlbnIA"
   },
   "outputs": [],
   "source": [
    "import numpy as np\n",
    "import matplotlib.pyplot as plt\n",
    "import matplotlib as mpl\n",
    "from matplotlib.animation import FuncAnimation\n",
    "from fplanck import fokker_planck, boundary, gaussian_pdf, harmonic_potential\n",
    "from mpl_toolkits.mplot3d import Axes3D\n",
    "from numpy import asarray\n",
    "from numpy import save\n",
    "from numpy import load\n",
    "from numpy import asarray\n",
    "from scipy.io import savemat\n",
    "import scipy"
   ]
  },
  {
   "cell_type": "code",
   "execution_count": 3,
   "metadata": {
    "id": "oIjLx0yvsjNJ"
   },
   "outputs": [],
   "source": [
    "nm = 1e-9"
   ]
  },
  {
   "cell_type": "code",
   "execution_count": 4,
   "metadata": {
    "id": "SoFkYmU2aWKR"
   },
   "outputs": [],
   "source": [
    "def F(x, y):\n",
    "    rad = np.sqrt(x**2 + y**2)\n",
    "    phi = np.arctan2(y, x)\n",
    "    L = 200*nm\n",
    "\n",
    "    Fphi = 1e-12*rad/L*np.exp(-rad/L)\n",
    "    Frad = 1e-12*(1 - rad/L)*np.exp(-rad/L)\n",
    "\n",
    "    Fx = -np.sin(phi)*Fphi + np.cos(phi)*Frad\n",
    "    Fy = np.cos(phi)*Fphi + np.sin(phi)*Frad\n",
    "    return np.array([Fx, Fy])"
   ]
  },
  {
   "cell_type": "code",
   "execution_count": 5,
   "metadata": {
    "id": "lAWWERbFk3cH"
   },
   "outputs": [],
   "source": [
    "def generate_data(width,x_c,y_c,Nsteps):\n",
    "      nm = 1e-9\n",
    "      viscosity = 8e-4\n",
    "      radius = 50*nm\n",
    "      drag = 6*np.pi*viscosity*radius\n",
    "\n",
    "      U = harmonic_potential((0,0), 1e-6)\n",
    "      #F = lambda x: np.ones_like(x)\n",
    "      sim = fokker_planck(temperature=300, drag=drag, extent=[640*nm, 640*nm],\n",
    "                  resolution=10*nm, boundary=boundary.reflecting, potential=U, force=F)\n",
    "\n",
    "      ### time-evolved solution\n",
    "\n",
    "\n",
    "      pdf = gaussian_pdf(center=(x_c*nm, y_c*nm), width=width*nm)\n",
    "      #pdf = gaussian_pdf(center=(-150*nm, -150*nm), width=30*nm)\n",
    "      p0 = pdf(*sim.grid)\n",
    "\n",
    "      \n",
    "      time, Pt = sim.propagate_interval(pdf, 2e-3, Nsteps=Nsteps)\n",
    "\n",
    "      ### animation\n",
    "      # fig, ax = plt.subplots(subplot_kw=dict(projection='3d'), constrained_layout=True)\n",
    "\n",
    "      # surf = ax.plot_surface(*sim.grid/nm, p0, cmap='viridis')\n",
    "\n",
    "      # ax.set_zlim([0,np.max(Pt)/3])\n",
    "      # ax.autoscale(False)\n",
    "\n",
    "      # # def update(i):\n",
    "      # #     global surf\n",
    "      # #     surf.remove()\n",
    "      # #     surf = ax.plot_surface(*sim.grid/nm, Pt[i], cmap='viridis')\n",
    "\n",
    "      # #     return [surf]\n",
    "\n",
    "      # anim = FuncAnimation(fig, update, frames=range(Nsteps), interval=30)\n",
    "      # ax.set(xlabel='x (nm)', ylabel='y (nm)', zlabel='normalized PDF')\n",
    "\n",
    "      # plt.show()\n",
    "      return p0,Pt"
   ]
  },
  {
   "cell_type": "code",
   "execution_count": 6,
   "metadata": {
    "id": "CQt6siM1j9wm"
   },
   "outputs": [],
   "source": [
    "def save_data(p0,Pt,ind,Nsteps):\n",
    "  set_p=Pt.T\n",
    "  samples_n=Nsteps//50\n",
    "  new_set=np.zeros((samples_n,64,64,50))\n",
    "  for i in range(samples_n):\n",
    "    new_set[i]=set_p[:,:,i*50:i*50+50]\n",
    "  # define data\n",
    "  new_set=np.float32(new_set)\n",
    "  data = asarray(new_set)\n",
    "  # save to npy file\n",
    "  title='output_2d_'+str(ind).zfill(3)\n",
    "  print(title)\n",
    "  save(title, data)"
   ]
  },
  {
   "cell_type": "code",
   "execution_count": 7,
   "metadata": {
    "id": "5zUvm4bHNvrQ"
   },
   "outputs": [],
   "source": [
    "def save_data_mat(n,Nsteps):\n",
    "  for j in range(n):\n",
    "    [width]= np.random.randint(10, 40, size = 1)\n",
    "    [x_c,y_c]= np.random.randint(-320 + width, 320-width, size = 2)\n",
    "    width,x_c,y_c\n",
    "    p0,Pt=generate_data(width,x_c,y_c,Nsteps)\n",
    "    set_p=Pt.T\n",
    "    for i in range(Nsteps): \n",
    "      title='sample_'+str(j)+'_output_2d_'+str(i).zfill(3)+'.mat'\n",
    "      output=set_p[:,:,i]\n",
    "      input=p0\n",
    "      savemat(title, {\"output\":output},{\"input\":input})\n",
    "\n",
    "    if j%10==1:\n",
    "      print(title)\n",
    "      \n",
    "\n",
    "  "
   ]
  },
  {
   "cell_type": "markdown",
   "metadata": {
    "id": "bceu0I64SPY0"
   },
   "source": [
    "## **Save as npy(n=number of samples,Nsteps - default is 50(40-training, 10 testing))** - one big tensor"
   ]
  },
  {
   "cell_type": "code",
   "execution_count": 8,
   "metadata": {
    "id": "TZPzokqlSgGp"
   },
   "outputs": [],
   "source": [
    "def save_data_npy(n,Nsteps=50):\n",
    "  new_set=np.zeros((n,64,64,50))\n",
    "  new_set_input=np.zeros((n,64,64))\n",
    "  for i in range(n):\n",
    "    [width]= np.random.randint(10, 40, size = 1)\n",
    "    [x_c,y_c]= np.random.randint(-320 + width, 320-width, size = 2)\n",
    "    width,x_c,y_c\n",
    "    p0,Pt=generate_data(width,x_c,y_c,Nsteps)\n",
    "    set_p=Pt.T\n",
    "    samples_n=Nsteps//50\n",
    "    if i%10==1:\n",
    "      print(i)\n",
    "    new_set[i]=set_p\n",
    "    new_set_input[i]=p0\n",
    "    # define data\n",
    "  new_set=np.float32(new_set)\n",
    "  new_set_input=np.float32(new_set_input)\n",
    "  data = asarray(new_set)\n",
    "  data_input = asarray(new_set_input)\n",
    "  # save to npy file\n",
    "  title='output_2d_'+str(n)+'_tensor'\n",
    "  title_input='input_2d_'+str(n)+'_tensor'\n",
    "  print(title,title_input)\n",
    "  save(title, data)\n",
    "  save(title_input, data_input)"
   ]
  },
  {
   "cell_type": "code",
   "execution_count": 9,
   "metadata": {
    "colab": {
     "base_uri": "https://localhost:8080/"
    },
    "id": "dQWOvPcxUO-2",
    "outputId": "1bd3af6d-33ad-4c97-fd4c-95eba7ca364b"
   },
   "outputs": [
    {
     "name": "stdout",
     "output_type": "stream",
     "text": [
      "output_2d_1_tensor input_2d_1_tensor\n"
     ]
    }
   ],
   "source": [
    "save_data_npy(1,Nsteps=50)"
   ]
  },
  {
   "cell_type": "code",
   "execution_count": 10,
   "metadata": {
    "id": "p5Nngc-BQBNS"
   },
   "outputs": [],
   "source": [
    "arr=np.load('output_2d_1_tensor.npy')"
   ]
  },
  {
   "cell_type": "code",
   "execution_count": 11,
   "metadata": {
    "colab": {
     "base_uri": "https://localhost:8080/",
     "height": 285
    },
    "id": "Sbzy-2S6QKUg",
    "outputId": "89fcda15-855f-475e-9765-8e44c009cead"
   },
   "outputs": [
    {
     "data": {
      "text/plain": [
       "<matplotlib.image.AxesImage at 0x209b39aaef0>"
      ]
     },
     "execution_count": 11,
     "metadata": {},
     "output_type": "execute_result"
    },
    {
     "data": {
      "image/png": "[encoded data removed]",
      "text/plain": [
       "<Figure size 432x288 with 1 Axes>"
      ]
     },
     "metadata": {
      "needs_background": "light"
     },
     "output_type": "display_data"
    }
   ],
   "source": [
    "plt.imshow(arr[0,:,:,49])"
   ]
  },
  {
   "cell_type": "code",
   "execution_count": 12,
   "metadata": {},
   "outputs": [
    {
     "data": {
      "text/plain": [
       "<matplotlib.image.AxesImage at 0x209b5ab4240>"
      ]
     },
     "execution_count": 12,
     "metadata": {},
     "output_type": "execute_result"
    },
    {
     "data": {
      "image/png": "[encoded data removed]",
      "text/plain": [
       "<Figure size 432x288 with 1 Axes>"
      ]
     },
     "metadata": {
      "needs_background": "light"
     },
     "output_type": "display_data"
    }
   ],
   "source": [
    "plt.imshow(arr[0,:,:,8])"
   ]
  },
  {
   "cell_type": "markdown",
   "metadata": {
    "id": "FYBLsod0UU9X"
   },
   "source": [
    "## Save as **mat**"
   ]
  },
  {
   "cell_type": "code",
   "execution_count": 13,
   "metadata": {
    "colab": {
     "base_uri": "https://localhost:8080/"
    },
    "id": "2Rtk5Fm2P2Yy",
    "outputId": "348b04a1-7bd9-4bdb-f5f5-931be83b3e6f"
   },
   "outputs": [],
   "source": [
    "save_data_mat(1,50)"
   ]
  },
  {
   "cell_type": "code",
   "execution_count": null,
   "metadata": {},
   "outputs": [],
   "source": []
  }
 ],
 "metadata": {
  "accelerator": "GPU",
  "colab": {
   "collapsed_sections": [],
   "name": "fplank_generation.ipynb",
   "provenance": [],
   "toc_visible": true
  },
  "kernelspec": {
   "display_name": "Python 3",
   "language": "python",
   "name": "python3"
  },
  "language_info": {
   "codemirror_mode": {
    "name": "ipython",
    "version": 3
   },
   "file_extension": ".py",
   "mimetype": "text/x-python",
   "name": "python",
   "nbconvert_exporter": "python",
   "pygments_lexer": "ipython3",
   "version": "3.7.8"
  },
  "varInspector": {
   "cols": {
    "lenName": 16,
    "lenType": 16,
    "lenVar": 40
   },
   "kernels_config": {
    "python": {
     "delete_cmd_postfix": "",
     "delete_cmd_prefix": "del ",
     "library": "var_list.py",
     "varRefreshCmd": "print(var_dic_list())"
    },
    "r": {
     "delete_cmd_postfix": ") ",
     "delete_cmd_prefix": "rm(",
     "library": "var_list.r",
     "varRefreshCmd": "cat(var_dic_list()) "
    }
   },
   "types_to_exclude": [
    "module",
    "function",
    "builtin_function_or_method",
    "instance",
    "_Feature"
   ],
   "window_display": false
  }
 },
 "nbformat": 4,
 "nbformat_minor": 1
}
